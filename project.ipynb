{
  "nbformat": 4,
  "nbformat_minor": 0,
  "metadata": {
    "colab": {
      "name": "project.ipynb",
      "provenance": [],
      "collapsed_sections": [],
      "include_colab_link": true
    },
    "kernelspec": {
      "display_name": "Python 3",
      "language": "python",
      "name": "python3"
    },
    "language_info": {
      "codemirror_mode": {
        "name": "ipython",
        "version": 3
      },
      "file_extension": ".py",
      "mimetype": "text/x-python",
      "name": "python",
      "nbconvert_exporter": "python",
      "pygments_lexer": "ipython3",
      "version": "3.8.5"
    }
  },
  "cells": [
    {
      "cell_type": "markdown",
      "metadata": {
        "id": "view-in-github",
        "colab_type": "text"
      },
      "source": [
        "<a href=\"https://colab.research.google.com/github/m-arain/CST383Project/blob/main/project.ipynb\" target=\"_parent\"><img src=\"https://colab.research.google.com/assets/colab-badge.svg\" alt=\"Open In Colab\"/></a>"
      ]
    },
    {
      "cell_type": "markdown",
      "metadata": {
        "id": "ZYi3CIRnnHtl"
      },
      "source": [
        "# Spam/Ham Machine Learning Classifier\n",
        "#### Jason Contreras, Mohammad Arain, Robert Meis\n",
        "####CST 383 Data Science\n",
        "#### Spring 2021\n",
        "####Professor Ergezer "
      ]
    },
    {
      "cell_type": "markdown",
      "metadata": {
        "id": "Zmc0YjFLnHtq"
      },
      "source": [
        "### Introduction\n",
        "The purpose of this project is to create a Spam/Ham Classifier with high accuracy. Spam/Ham classifiers are a widely used technique for e-mail filtering. This project was undertaken because it piqued our interest, is popular in our field of computer science and is applicable towards our class curriculum."
      ]
    },
    {
      "cell_type": "code",
      "metadata": {
        "id": "KyRpTVQMGBFY"
      },
      "source": [
        "# -*- coding: utf-8 -*-\n",
        "\"\"\"\n",
        "@authors: Robert Meis, Mohammad Arain, Jason Contreras\n",
        "@team members: Jason Contreras, Mohammad Arain, Robert Meis\n",
        "CST-383 Project: Spam vs. Ham Classifier \n",
        "\n",
        "References/Bibliography:\n",
        "https://jakevdp.github.io/PythonDataScienceHandbook/05.04-feature-engineering.html\n",
        "https://jakevdp.github.io/PythonDataScienceHandbook/05.05-naive-bayes.html\n",
        "https://pandas.pydata.org/ (multiple pages)\n",
        "https://scikit-learn.org/ (multiple pages)\n",
        "https://seaborn.pydata.org/ (multiple pages)\n",
        "https://matplotlib.org/ (multiple pages)\n",
        "https://www.kite.com/python/answers/how-to-plot-a-bar-chart-using-a-dictionary-in-matplotlib-in-python\n",
        "https://python-graph-gallery.com/3-control-color-of-barplots/\n",
        "https://www.sciencedirect.com/science/article/pii/S2405844018353404\n",
        "\n",
        "Spam/Ham Dataset is obtained here: https://www.kaggle.com/venky73/spam-mails-dataset\n",
        "\n",
        "Data was downloaded on Feb 7 2021\n",
        "\"\"\"\n",
        "\n",
        "import pandas as pd\n",
        "import numpy as np\n",
        "import seaborn as sns\n",
        "import matplotlib.pyplot as plt\n",
        "from sklearn.feature_extraction.text import CountVectorizer\n",
        "from sklearn.feature_extraction.text import TfidfVectorizer\n",
        "from sklearn.feature_extraction.text import TfidfTransformer\n",
        "from sklearn.model_selection import train_test_split\n",
        "from sklearn.model_selection import learning_curve\n",
        "from sklearn.ensemble import RandomForestClassifier\n",
        "from sklearn.tree import DecisionTreeClassifier\n",
        "from sklearn.neighbors import KNeighborsClassifier\n",
        "from sklearn.naive_bayes import MultinomialNB\n",
        "from sklearn.metrics import confusion_matrix\n",
        "from sklearn.pipeline import make_pipeline"
      ],
      "execution_count": 1,
      "outputs": []
    },
    {
      "cell_type": "code",
      "metadata": {
        "colab": {
          "base_uri": "https://localhost:8080/",
          "height": 41
        },
        "id": "DWWeduCanHtr",
        "outputId": "4066efc3-6328-4a5c-efb5-d91438ffa77b"
      },
      "source": [
        "# code in this cell from: \n",
        "# https://stackoverflow.com/questions/27934885/how-to-hide-code-from-cells-in-ipython-notebook-visualized-with-nbviewer\n",
        "from IPython.display import HTML\n",
        "\n",
        "HTML('''<script>\n",
        "code_show=true; \n",
        "function code_toggle() {\n",
        " if (code_show){\n",
        " $('div.input').hide();\n",
        " } else {\n",
        " $('div.input').show();\n",
        " }\n",
        " code_show = !code_show\n",
        "} \n",
        "$( document ).ready(code_toggle);\n",
        "</script>\n",
        "<form action=\"javascript:code_toggle()\"><input type=\"submit\" value=\"Click here to display/hide the code.\"></form>''')"
      ],
      "execution_count": 2,
      "outputs": [
        {
          "output_type": "execute_result",
          "data": {
            "text/html": [
              "<script>\n",
              "code_show=true; \n",
              "function code_toggle() {\n",
              " if (code_show){\n",
              " $('div.input').hide();\n",
              " } else {\n",
              " $('div.input').show();\n",
              " }\n",
              " code_show = !code_show\n",
              "} \n",
              "$( document ).ready(code_toggle);\n",
              "</script>\n",
              "<form action=\"javascript:code_toggle()\"><input type=\"submit\" value=\"Click here to display/hide the code.\"></form>"
            ],
            "text/plain": [
              "<IPython.core.display.HTML object>"
            ]
          },
          "metadata": {
            "tags": []
          },
          "execution_count": 2
        }
      ]
    },
    {
      "cell_type": "code",
      "metadata": {
        "id": "Dq8gSM4qnHtt"
      },
      "source": [
        "# switch to seaborn default stylistic parameters\n",
        "sns.set()\n",
        "sns.set_context('notebook') "
      ],
      "execution_count": 3,
      "outputs": []
    },
    {
      "cell_type": "code",
      "metadata": {
        "id": "WU4-9yAkKozN"
      },
      "source": [
        "#df = pd.read_csv('spam_ham_dataset.csv') #keep both the .csv file and this file in the same folder or update file path\n",
        "#read CSV data from a URL\n",
        "df = pd.read_csv(\"https://raw.githubusercontent.com/m-arain/CST383Project/main/spam_ham_dataset.csv\")\n",
        "df0 = df; #copy df in case df gets modified incorrectly"
      ],
      "execution_count": 4,
      "outputs": []
    },
    {
      "cell_type": "markdown",
      "metadata": {
        "id": "Jq_SAw2ynHtu"
      },
      "source": [
        "### Selection of Data\n",
        "Original source of the dataset: https://www.kaggle.com/venky73/spam-mails-dataset. <br/>\n",
        "Data consists of a publicly available dataset containing a total of 5171(~5000) Enron emails.<br/>\n",
        "Before data munging, original data consists of four columns: number, label, text, label_num"
      ]
    },
    {
      "cell_type": "code",
      "metadata": {
        "id": "sii91WSSnHtu",
        "outputId": "277f312b-caad-4ca1-9272-ef475691a75f"
      },
      "source": [
        "df.info()"
      ],
      "execution_count": null,
      "outputs": [
        {
          "output_type": "stream",
          "text": [
            "<class 'pandas.core.frame.DataFrame'>\n",
            "RangeIndex: 5171 entries, 0 to 5170\n",
            "Data columns (total 4 columns):\n",
            " #   Column      Non-Null Count  Dtype \n",
            "---  ------      --------------  ----- \n",
            " 0   Unnamed: 0  5171 non-null   int64 \n",
            " 1   label       5171 non-null   object\n",
            " 2   text        5171 non-null   object\n",
            " 3   label_num   5171 non-null   int64 \n",
            "dtypes: int64(2), object(2)\n",
            "memory usage: 161.7+ KB\n"
          ],
          "name": "stdout"
        }
      ]
    },
    {
      "cell_type": "code",
      "metadata": {
        "id": "bo6dyEdUnHtv",
        "outputId": "61938667-7e96-40de-b0c9-25d63626b574"
      },
      "source": [
        "df.shape"
      ],
      "execution_count": null,
      "outputs": [
        {
          "output_type": "execute_result",
          "data": {
            "text/plain": [
              "(5171, 4)"
            ]
          },
          "metadata": {
            "tags": []
          },
          "execution_count": 93
        }
      ]
    },
    {
      "cell_type": "markdown",
      "metadata": {
        "id": "ESdwLtzoMuEJ"
      },
      "source": [
        "####Data Fields\n",
        "1. Unamed:0 (Number) - Unique id of Message\n",
        "2. Label - Type of message (Spam or Ham)\n",
        "3. Text - Actual Message\n",
        "4. label_num - Type of message (0 = ham, 1 = Spam)"
      ]
    },
    {
      "cell_type": "code",
      "metadata": {
        "colab": {
          "base_uri": "https://localhost:8080/"
        },
        "id": "zywBbqOSH9-E",
        "outputId": "9b8a1aeb-8fb7-499c-e663-a96e7a30ab01"
      },
      "source": [
        "df['label'].value_counts()"
      ],
      "execution_count": 10,
      "outputs": [
        {
          "output_type": "execute_result",
          "data": {
            "text/plain": [
              "ham     3672\n",
              "spam    1499\n",
              "Name: label, dtype: int64"
            ]
          },
          "metadata": {
            "tags": []
          },
          "execution_count": 10
        }
      ]
    },
    {
      "cell_type": "code",
      "metadata": {
        "colab": {
          "base_uri": "https://localhost:8080/",
          "height": 301
        },
        "id": "fudT796FGRRz",
        "outputId": "3f88e680-c9ee-4633-e114-20a0f0cff02d"
      },
      "source": [
        "#Visualize Dataset\n",
        "sns.histplot(data=df['label'].values)\n",
        "plt.title('Total Data Set Spam vs. Ham Counts')"
      ],
      "execution_count": 5,
      "outputs": [
        {
          "output_type": "execute_result",
          "data": {
            "text/plain": [
              "Text(0.5, 1.0, 'Total Data Set Spam vs. Ham Counts')"
            ]
          },
          "metadata": {
            "tags": []
          },
          "execution_count": 5
        },
        {
          "output_type": "display_data",
          "data": {
            "image/png": "[encoded data removed]",
            "text/plain": [
              "<Figure size 432x288 with 1 Axes>"
            ]
          },
          "metadata": {
            "tags": []
          }
        }
      ]
    },
    {
      "cell_type": "markdown",
      "metadata": {
        "id": "6L0Xk8UZNOX8"
      },
      "source": [
        "###Machine Learning\n",
        "####Feature Engineering \n",
        "The 'email number' column is dropped to avoid bias and 'label' column is dropped because it is not necessary as the machine learning algorithmn will use numeric values."
      ]
    },
    {
      "cell_type": "code",
      "metadata": {
        "id": "oyf8ZMO6Kz3I"
      },
      "source": [
        "#Drop Columns\n",
        "df.columns = ['number', 'label', 'subject', 'label_num'] #drop 'number' (= bias) and 'label' (not needed) columns\n",
        "df.drop(['number', 'label'], axis=1, inplace=True) #"
      ],
      "execution_count": null,
      "outputs": []
    },
    {
      "cell_type": "markdown",
      "metadata": {
        "id": "jtOBXKG9nHtx"
      },
      "source": [
        "Each email subject began with \"Subject: \". This was stripped from each email subject using Python string processing as it was both irrelevant and potentially biasing."
      ]
    },
    {
      "cell_type": "code",
      "metadata": {
        "id": "iXiJWMVXLrwO"
      },
      "source": [
        "#extract label and target vectors\n",
        "X = df['subject'].str.strip('Subject: ') #X = labels vector. Strip word 'Subject: ' which appears in front of each email subject (not needed/biasing)\n",
        "y = df['label_num'] #target vector"
      ],
      "execution_count": null,
      "outputs": []
    },
    {
      "cell_type": "markdown",
      "metadata": {
        "id": "4xFPWs1PnHtx"
      },
      "source": [
        "Data after data munging. Two columns: subject and label_num"
      ]
    },
    {
      "cell_type": "code",
      "metadata": {
        "id": "UkEK6yk3nHty",
        "outputId": "d078d9a3-21ce-4a0f-dc85-1b748c73becf"
      },
      "source": [
        "df.info()"
      ],
      "execution_count": null,
      "outputs": [
        {
          "output_type": "stream",
          "text": [
            "<class 'pandas.core.frame.DataFrame'>\n",
            "RangeIndex: 5171 entries, 0 to 5170\n",
            "Data columns (total 2 columns):\n",
            " #   Column     Non-Null Count  Dtype \n",
            "---  ------     --------------  ----- \n",
            " 0   subject    5171 non-null   object\n",
            " 1   label_num  5171 non-null   int64 \n",
            "dtypes: int64(1), object(1)\n",
            "memory usage: 80.9+ KB\n"
          ],
          "name": "stdout"
        }
      ]
    },
    {
      "cell_type": "markdown",
      "metadata": {
        "id": "ngGdTXBHnHty"
      },
      "source": [
        "### Methods\n",
        "Tools used throughout the entire process include  <br/>\n",
        "* Numpy, Pandas, Matplotlib, Scikit-Learn and Seaborn fo data analysis and visualization\n",
        "* Github was used for version control\n",
        "* Spyder as the IDE\n",
        "* Google Collab for python notebook \n",
        "<br/> <br/>\n",
        "Decision Tree, Naive-Bayes, and Random Forest machine learning algorithmns were all used to model the classifier.<br /><br />\n",
        "kNN was also initially included but proved to be inefficient and less accurate than the other models."
      ]
    },
    {
      "cell_type": "markdown",
      "metadata": {
        "id": "FkmHOxYvnHtz"
      },
      "source": [
        "TFIDF Vectorizer was used to transform each word or \"term\" in the email subject into a weighted value reflecting its frequency within a document type (spam or ham). TFIDF Vectorizer assigns an inverse weighting to terms occurring frequently across documents, such as \"the\" and \"and,\" so words weighted highly are more meaningful. "
      ]
    },
    {
      "cell_type": "code",
      "metadata": {
        "id": "v6wGmEuELvlX"
      },
      "source": [
        "#weight words using tfidVectorizer for X_train and X_test\n",
        "vec = TfidfVectorizer()\n",
        "X = vec.fit_transform(X)\n",
        "X = pd.DataFrame(X.toarray(), columns=vec.get_feature_names())"
      ],
      "execution_count": null,
      "outputs": []
    },
    {
      "cell_type": "markdown",
      "metadata": {
        "id": "Hkm8ga37nHt0"
      },
      "source": [
        "The data is split into a training/test sets using a 70/30 split."
      ]
    },
    {
      "cell_type": "code",
      "metadata": {
        "id": "KoWyLlH8L1YF"
      },
      "source": [
        "#separate X and y into train and test data\n",
        "X_train, X_test, y_train, y_test = train_test_split(X, y, \n",
        "                                                    test_size=0.30, \n",
        "                                                    random_state=42)"
      ],
      "execution_count": null,
      "outputs": []
    },
    {
      "cell_type": "markdown",
      "metadata": {
        "id": "E-Nwi5RqnHt1"
      },
      "source": [
        "Decision Trees are supervised non-parametric technique that is capable of classification and regression related work. The data is split continuusly depending on a specific parameter. The parameter max_depth represents the maximum depth of the tree.  "
      ]
    },
    {
      "cell_type": "code",
      "metadata": {
        "id": "yIvBQRXax0t2"
      },
      "source": [
        "#Decision Tree Model\n",
        "clf = DecisionTreeClassifier(max_depth=100, random_state=0)\n",
        "clf.fit(X_train, y_train)\n",
        "dt_predict = clf.predict(X_test)"
      ],
      "execution_count": null,
      "outputs": []
    },
    {
      "cell_type": "code",
      "metadata": {
        "colab": {
          "base_uri": "https://localhost:8080/"
        },
        "id": "Ay_wvj4px6Kb",
        "outputId": "81bee7e5-0179-44f0-a825-6fd2395cb91b"
      },
      "source": [
        "#print Decision Tree Accuracy \n",
        "dt_accuracy = (dt_predict == y_test).mean() * 100\n",
        "dt_num_correct = dt_predict[dt_predict == y_test]\n",
        "print(\"Decision Tree Accuracy {:.2f}\".format(dt_accuracy))"
      ],
      "execution_count": null,
      "outputs": [
        {
          "output_type": "stream",
          "text": [
            "Decision Tree Accuracy 94.97\n"
          ],
          "name": "stdout"
        }
      ]
    },
    {
      "cell_type": "markdown",
      "metadata": {
        "id": "fV-FzcRWnHt2"
      },
      "source": [
        "Naive-Baiyes is a context classifier that applies Bayes' theorem on the context of each email. It assumes the words in each e-mail are independent from each other."
      ]
    },
    {
      "cell_type": "code",
      "metadata": {
        "id": "JweL2S9WyD6b"
      },
      "source": [
        "#Naive-Bayes model\n",
        "clf = MultinomialNB()\n",
        "clf.fit(X_train, y_train)\n",
        "nb_predict = clf.predict(X_test)"
      ],
      "execution_count": null,
      "outputs": []
    },
    {
      "cell_type": "code",
      "metadata": {
        "colab": {
          "base_uri": "https://localhost:8080/"
        },
        "id": "zK1lzKJjyGuN",
        "outputId": "ef7eda58-0c16-40a9-b319-0c97ccd35041"
      },
      "source": [
        "#print Naive-Bayes Accuracy\n",
        "nb_accuracy = (nb_predict == y_test).mean() * 100\n",
        "nb_num_correct = nb_predict[nb_predict == y_test]\n",
        "print('Naive-Bayes Accuracy {:.2f}'.format(nb_accuracy))"
      ],
      "execution_count": null,
      "outputs": [
        {
          "output_type": "stream",
          "text": [
            "Naive-Bayes Accuracy 86.66\n"
          ],
          "name": "stdout"
        }
      ]
    },
    {
      "cell_type": "markdown",
      "metadata": {
        "id": "nXKXx44lnHt3"
      },
      "source": [
        "Random Forests is an ensemble algorithm that uses bagging (or bootstrap aggregation). A certain number of decision trees are created for a specific problem and merged together for a more accurate prediction.  "
      ]
    },
    {
      "cell_type": "code",
      "metadata": {
        "id": "3nS-FecPzgWX"
      },
      "source": [
        "#Random Forest Model\n",
        "clf = RandomForestClassifier(max_depth = 100, min_samples_split=10, min_samples_leaf=1, random_state = 0)\n",
        "clf.fit(X_train, y_train)\n",
        "rf_predict = clf.predict(X_test)"
      ],
      "execution_count": null,
      "outputs": []
    },
    {
      "cell_type": "code",
      "metadata": {
        "colab": {
          "base_uri": "https://localhost:8080/"
        },
        "id": "n7oYZHQ8zjGG",
        "outputId": "e3a6e1c4-43b1-45f3-ae24-e1b6f4caf8f3"
      },
      "source": [
        "#print Random Forest Accuracy\n",
        "rf_accuracy = (rf_predict == y_test).mean() * 100\n",
        "rf_num_correct = rf_predict[rf_predict == y_test]\n",
        "print('Random Forest Accuracy {:.2f}'.format(rf_accuracy))"
      ],
      "execution_count": null,
      "outputs": [
        {
          "output_type": "stream",
          "text": [
            "Random Forest Accuracy 97.04\n"
          ],
          "name": "stdout"
        }
      ]
    },
    {
      "cell_type": "code",
      "metadata": {
        "colab": {
          "base_uri": "https://localhost:8080/",
          "height": 298
        },
        "id": "gi2XsgWAzr7I",
        "outputId": "a1e67db3-a66c-44c2-9574-d0e7ba8893bc"
      },
      "source": [
        "#Visualization\n",
        "accuracies = {'Decision Tree':dt_accuracy, 'Naive-Bayes': nb_accuracy, 'Random Forest':rf_accuracy}\n",
        "\n",
        "plt.bar(accuracies.keys(), accuracies.values(), color=('#bfd4db', '#ffb347', '#4a708b'))\n",
        "plt.ylabel('Percent Correct')\n",
        "plt.title('Model Accuracy on Novel (untrained) Email Sample (n = ~1,500)')"
      ],
      "execution_count": null,
      "outputs": [
        {
          "output_type": "execute_result",
          "data": {
            "text/plain": [
              "Text(0.5, 1.0, 'Model Accuracy on Novel (untrained) Email Sample (n = ~1,500)')"
            ]
          },
          "metadata": {
            "tags": []
          },
          "execution_count": 105
        },
        {
          "output_type": "display_data",
          "data": {
            "image/png": "[encoded data removed]",
            "text/plain": [
              "<Figure size 432x288 with 1 Axes>"
            ]
          },
          "metadata": {
            "tags": []
          }
        }
      ]
    },
    {
      "cell_type": "code",
      "metadata": {
        "colab": {
          "base_uri": "https://localhost:8080/",
          "height": 54
        },
        "id": "FASLa8WuL3K4",
        "outputId": "927066b7-e917-479b-ecb4-86df5b38e44d"
      },
      "source": [
        "####Notes\n",
        "'''\n",
        " kNN was also tested but omitted due to limited accuracy and significant test run time\n",
        "#use kNN\n",
        "knn = KNeighborsClassifier()\n",
        "knn.fit(X_train, y_train)\n",
        "predictions = knn.predict(X_test[:50])\n",
        "print(predictions, y_test[:50])\n",
        "'''"
      ],
      "execution_count": null,
      "outputs": [
        {
          "output_type": "execute_result",
          "data": {
            "text/plain": [
              "'\\n kNN was also tested but omitted due to limited accuracy and significant test run time\\n#use kNN\\nknn = KNeighborsClassifier()\\nknn.fit(X_train, y_train)\\npredictions = knn.predict(X_test[:50])\\nprint(predictions, y_test[:50])\\n'"
            ]
          },
          "metadata": {
            "tags": []
          },
          "execution_count": 106
        }
      ]
    },
    {
      "cell_type": "markdown",
      "metadata": {
        "id": "byVY7HapnHt5"
      },
      "source": [
        "### Results\n",
        "With default values for each model, Naive-Bayes showed the highest accuracy at 87% vs. 80% for Decision Trees.<br/><br/>\n",
        "Tuning Decision Trees to have a max leaf depth of greater than or equal to 15 led to a higher accuracy on untrained test data, with an optimal accuracy of 0.94 at a max_depth = 15. Furthermore, higher max_depth values provided minimal or no additional improvement. <br/><br/>\n",
        "Random Forest was then tested to determine whether it would provide a higher accuracy level vs. Decision Trees. Using default params, Random Forest had lower accuracy than Decision Trees (around 70%). Experimental tuning of parameters increased accuracy slightly, such as setting a min_samples_split to 10. However, expanding the max_depth parameter of Random Forest to 100 increased its accuracy to 97%, the highest of any of the three models."
      ]
    },
    {
      "cell_type": "markdown",
      "metadata": {
        "id": "v1xEWxaunHt6"
      },
      "source": [
        "### Discussion \n",
        "The results do imply that the three linear ML classifiers tested (Decision Tree, Naive-Bayes and Random Forest) are all viable approaches for a spam/ham classifier; which aligns with what researchers say according to ScienceDirect. The 97% accuracy on Random Forest also does reinforce the fact that Random Forest is capable of high classification accuracies and worked best for our goal of a high accuracy. Other potential factors to extend this project in the future could include grid search for decision trees, boosting, support vector machines(SVS) and Artificial Nueral networks (ANN)."
      ]
    },
    {
      "cell_type": "markdown",
      "metadata": {
        "id": "F3s3Y-OrnHt6"
      },
      "source": [
        "### Summary\n",
        "Based on the simulation results Decision Tree, Naive-Bayes and Random Forest have all proven to be capable machine learning algorithmns to base a spam/ham classifier off. In this case Random Forest was the most capable with 97% accuracy with minimal tuning. kNN Neighborsclassifier proved to be inefficient for our large dataset as the TFDIF Vectorizer produced too many columns for kNN to handle. The goal of building a spam/ham classifier with high accuracy was achieved.\n"
      ]
    },
    {
      "cell_type": "markdown",
      "metadata": {
        "id": "cQwCL0Pv2V63"
      },
      "source": [
        "###References/Bibliography\n",
        "\n",
        "References/Bibliography:\n",
        "https://jakevdp.github.io/PythonDataScienceHandbook/05.04-feature-engineering.html\n",
        "https://jakevdp.github.io/PythonDataScienceHandbook/05.05-naive-bayes.html\n",
        "https://pandas.pydata.org/ (multiple pages)\n",
        "https://scikit-learn.org/ (multiple pages)\n",
        "https://seaborn.pydata.org/ (multiple pages)\n",
        "https://matplotlib.org/ (multiple pages)\n",
        "https://www.kite.com/python/answers/how-to-plot-a-bar-chart-using-a-dictionary-in-matplotlib-in-python\n",
        "https://python-graph-gallery.com/3-control-color-of-barplots/\n",
        "https://www.sciencedirect.com/science/article/pii/S2405844018353404\n",
        "\n",
        "Spam/Ham Dataset is obtained here: https://www.kaggle.com/venky73/spam-mails-dataset\n",
        "\n",
        "Data was downloaded on Feb 7 2021"
      ]
    }
  ]
}