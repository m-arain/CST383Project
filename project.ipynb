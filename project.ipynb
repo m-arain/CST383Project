{
  "nbformat": 4,
  "nbformat_minor": 0,
  "metadata": {
    "colab": {
      "name": "project.ipynb",
      "provenance": [],
      "collapsed_sections": [],
      "authorship_tag": "ABX9TyMp6NPhG0X2qwXD/PbTfjsg",
      "include_colab_link": true
    },
    "kernelspec": {
      "name": "python3",
      "display_name": "Python 3"
    }
  },
  "cells": [
    {
      "cell_type": "markdown",
      "metadata": {
        "id": "view-in-github",
        "colab_type": "text"
      },
      "source": [
        "<a href=\"https://colab.research.google.com/github/m-arain/CST383Project/blob/main/project.ipynb\" target=\"_parent\"><img src=\"https://colab.research.google.com/assets/colab-badge.svg\" alt=\"Open In Colab\"/></a>"
      ]
    },
    {
      "cell_type": "code",
      "metadata": {
        "id": "KyRpTVQMGBFY"
      },
      "source": [
        "# -*- coding: utf-8 -*-\n",
        "\"\"\"\n",
        "\n",
        "@authors: Robert Meis, Mohammad Arain\n",
        "@team Members: Jason Contreras, Mohammad Arain\n",
        "CST-383 Project: Spam vs. Ham Classifier \n",
        "Dataset: https://www.kaggle.com/venky73/spam-mails-dataset\n",
        "References: https://jakevdp.github.io/PythonDataScienceHandbook/05.04-feature-engineering.html\n",
        "https://jakevdp.github.io/PythonDataScienceHandbook/05.05-naive-bayes.html\n",
        "https://pandas.pydata.org/ (multiple pages)\n",
        "\"\"\"\n",
        "\n",
        "import pandas as pd\n",
        "import numpy as np\n",
        "from sklearn.feature_extraction.text import CountVectorizer\n",
        "from sklearn.feature_extraction.text import TfidfVectorizer\n",
        "from sklearn.feature_extraction.text import TfidfTransformer\n",
        "from sklearn.model_selection import train_test_split\n",
        "from sklearn.neighbors import KNeighborsClassifier\n",
        "from sklearn.metrics import confusion_matrix\n",
        "from sklearn.naive_bayes import MultinomialNB\n",
        "from sklearn.pipeline import make_pipeline\n"
      ],
      "execution_count": 3,
      "outputs": []
    },
    {
      "cell_type": "code",
      "metadata": {
        "id": "WU4-9yAkKozN"
      },
      "source": [
        "#df = pd.read_csv('spam_ham_dataset.csv') #keep both the .csv file and this file in the same folder or update file path\n",
        "#read CSV data from a URL\n",
        "df = pd.read_csv(\"https://raw.githubusercontent.com/m-arain/CST383Project/main/spam_ham_dataset.csv\")\n",
        "df0 = df; #copy df in case df gets modified incorrectly\n"
      ],
      "execution_count": 4,
      "outputs": []
    },
    {
      "cell_type": "code",
      "metadata": {
        "id": "oyf8ZMO6Kz3I"
      },
      "source": [
        "#Drop Columns\n",
        "df.columns = ['number', 'label', 'subject', 'label_num'] #drop 'number' (= bias) and 'label' (not needed) columns\n",
        "df.drop(['number', 'label'], axis=1, inplace=True) #\n"
      ],
      "execution_count": 5,
      "outputs": []
    },
    {
      "cell_type": "code",
      "metadata": {
        "id": "iXiJWMVXLrwO"
      },
      "source": [
        "#extract label and target vectors\n",
        "X = df['subject'].str.strip('Subject: ') #X = labels vector. Strip word 'Subject: ' which appears in front of each email subject (not needed/biasing)\n",
        "y = df['label_num'] #target vector"
      ],
      "execution_count": 6,
      "outputs": []
    },
    {
      "cell_type": "code",
      "metadata": {
        "id": "v6wGmEuELvlX"
      },
      "source": [
        "#weight words using tfidVectorizer for X_train and X_test\n",
        "vec = TfidfVectorizer()\n",
        "X = vec.fit_transform(X)\n",
        "X = pd.DataFrame(X.toarray(), columns=vec.get_feature_names())\n",
        "\n"
      ],
      "execution_count": 7,
      "outputs": []
    },
    {
      "cell_type": "code",
      "metadata": {
        "id": "KoWyLlH8L1YF"
      },
      "source": [
        "#separate X and y into train and test data\n",
        "X_train, X_test, y_train, y_test = train_test_split(X, y, test_size=0.30, random_state=42)\n",
        "\n"
      ],
      "execution_count": 8,
      "outputs": []
    },
    {
      "cell_type": "code",
      "metadata": {
        "colab": {
          "base_uri": "https://localhost:8080/",
          "height": 938
        },
        "id": "FASLa8WuL3K4",
        "outputId": "16ad4356-22d9-4aad-ef66-71492f492fee"
      },
      "source": [
        "#use kNN\n",
        "knn = KNeighborsClassifier()\n",
        "knn.fit(X_train, y_train)\n",
        "predictions = knn.predict(X_test[:50])\n",
        "\n",
        "print(predictions, y_test[:50])\n",
        "\n",
        "'''\n",
        "#print(X_train.shape, y_train.shape)\n",
        "#use Naive-Bayes (testing)\n",
        "model = make_pipeline(TfidfVectorizer(), MultinomialNB())\n",
        "model.fit(X_train, y_train)\n",
        "predictions = model.predict(y_test)\n",
        "'''"
      ],
      "execution_count": 9,
      "outputs": [
        {
          "output_type": "stream",
          "text": [
            "[0 1 0 0 0 0 1 1 1 1 1 1 1 1 1 1 0 1 1 0 1 1 0 1 0 1 1 1 0 0 1 1 1 1 1 0 1\n",
            " 1 0 1 0 1 1 1 1 1 1 0 0 1] 1566    0\n",
            "1988    1\n",
            "1235    0\n",
            "2868    0\n",
            "4903    0\n",
            "1471    0\n",
            "1129    0\n",
            "5022    0\n",
            "3048    0\n",
            "530     0\n",
            "3273    0\n",
            "3149    0\n",
            "1662    1\n",
            "3820    1\n",
            "3732    1\n",
            "3976    0\n",
            "5112    0\n",
            "1835    0\n",
            "4692    1\n",
            "842     0\n",
            "2462    0\n",
            "683     0\n",
            "2664    0\n",
            "5145    0\n",
            "4223    0\n",
            "3379    0\n",
            "1487    1\n",
            "1780    0\n",
            "422     0\n",
            "1779    0\n",
            "1957    0\n",
            "3870    0\n",
            "1862    0\n",
            "2998    0\n",
            "1946    1\n",
            "4458    0\n",
            "4511    0\n",
            "410     1\n",
            "1360    0\n",
            "4471    1\n",
            "812     0\n",
            "1629    1\n",
            "2420    0\n",
            "4214    1\n",
            "833     0\n",
            "1292    0\n",
            "4144    0\n",
            "3377    0\n",
            "5024    0\n",
            "2144    1\n",
            "Name: label_num, dtype: int64\n"
          ],
          "name": "stdout"
        },
        {
          "output_type": "execute_result",
          "data": {
            "application/vnd.google.colaboratory.intrinsic+json": {
              "type": "string"
            },
            "text/plain": [
              "'\\n#print(X_train.shape, y_train.shape)\\n#use Naive-Bayes (testing)\\nmodel = make_pipeline(TfidfVectorizer(), MultinomialNB())\\nmodel.fit(X_train, y_train)\\npredictions = model.predict(y_test)\\n'"
            ]
          },
          "metadata": {
            "tags": []
          },
          "execution_count": 9
        }
      ]
    }
  ]
}