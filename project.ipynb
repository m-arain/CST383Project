{
  "nbformat": 4,
  "nbformat_minor": 0,
  "metadata": {
    "colab": {
      "name": "project.ipynb",
      "provenance": [],
      "collapsed_sections": [],
      "include_colab_link": true
    },
    "kernelspec": {
      "name": "python3",
      "display_name": "Python 3"
    }
  },
  "cells": [
    {
      "cell_type": "markdown",
      "metadata": {
        "id": "view-in-github",
        "colab_type": "text"
      },
      "source": [
        "<a href=\"https://colab.research.google.com/github/m-arain/CST383Project/blob/main/project.ipynb\" target=\"_parent\"><img src=\"https://colab.research.google.com/assets/colab-badge.svg\" alt=\"Open In Colab\"/></a>"
      ]
    },
    {
      "cell_type": "code",
      "metadata": {
        "id": "KyRpTVQMGBFY"
      },
      "source": [
        "# -*- coding: utf-8 -*-\n",
        "\"\"\"\n",
        "\n",
        "@authors: Robert Meis, Mohammad Arain\n",
        "@team members: Jason Contreras, Mohammad Arain\n",
        "CST-383 Project: Spam vs. Ham Classifier \n",
        "References: https://jakevdp.github.io/PythonDataScienceHandbook/05.04-feature-engineering.html\n",
        "https://jakevdp.github.io/PythonDataScienceHandbook/05.05-naive-bayes.html\n",
        "https://pandas.pydata.org/ (multiple pages)\n",
        "https://scikit-learn.org/ (multiple pages)\n",
        "https://seaborn.pydata.org/ (multiple pages)\n",
        "https://matplotlib.org/ (multiple pages)\n",
        "https://www.kite.com/python/answers/how-to-plot-a-bar-chart-using-a-dictionary-in-matplotlib-in-python\n",
        "https://python-graph-gallery.com/3-control-color-of-barplots/\n",
        "\n",
        "Spam/Ham Dataset is obtained here: https://www.kaggle.com/venky73/spam-mails-dataset\n",
        "Data was downloaded on Feb 7 2021\n",
        "\"\"\"\n",
        "\n",
        "import pandas as pd\n",
        "import numpy as np\n",
        "import seaborn as sns\n",
        "import matplotlib.pyplot as plt\n",
        "from sklearn.feature_extraction.text import CountVectorizer\n",
        "from sklearn.feature_extraction.text import TfidfVectorizer\n",
        "from sklearn.feature_extraction.text import TfidfTransformer\n",
        "from sklearn.model_selection import train_test_split\n",
        "from sklearn.model_selection import learning_curve\n",
        "from sklearn.ensemble import RandomForestClassifier\n",
        "from sklearn.tree import DecisionTreeClassifier\n",
        "from sklearn.neighbors import KNeighborsClassifier\n",
        "from sklearn.naive_bayes import MultinomialNB\n",
        "from sklearn.metrics import confusion_matrix\n",
        "from sklearn.pipeline import make_pipeline"
      ],
      "execution_count": 1,
      "outputs": []
    },
    {
      "cell_type": "code",
      "metadata": {
        "id": "WU4-9yAkKozN"
      },
      "source": [
        "#df = pd.read_csv('spam_ham_dataset.csv') #keep both the .csv file and this file in the same folder or update file path\n",
        "#read CSV data from a URL\n",
        "df = pd.read_csv(\"https://raw.githubusercontent.com/m-arain/CST383Project/main/spam_ham_dataset.csv\")\n",
        "df0 = df; #copy df in case df gets modified incorrectly"
      ],
      "execution_count": 3,
      "outputs": []
    },
    {
      "cell_type": "code",
      "metadata": {
        "id": "oyf8ZMO6Kz3I"
      },
      "source": [
        "#Drop Columns\n",
        "df.columns = ['number', 'label', 'subject', 'label_num'] #drop 'number' (= bias) and 'label' (not needed) columns\n",
        "df.drop(['number', 'label'], axis=1, inplace=True) #"
      ],
      "execution_count": 4,
      "outputs": []
    },
    {
      "cell_type": "code",
      "metadata": {
        "id": "iXiJWMVXLrwO"
      },
      "source": [
        "#extract label and target vectors\n",
        "X = df['subject'].str.strip('Subject: ') #X = labels vector. Strip word 'Subject: ' which appears in front of each email subject (not needed/biasing)\n",
        "y = df['label_num'] #target vector"
      ],
      "execution_count": 5,
      "outputs": []
    },
    {
      "cell_type": "code",
      "metadata": {
        "id": "v6wGmEuELvlX"
      },
      "source": [
        "#weight words using tfidVectorizer for X_train and X_test\n",
        "vec = TfidfVectorizer()\n",
        "X = vec.fit_transform(X)\n",
        "X = pd.DataFrame(X.toarray(), columns=vec.get_feature_names())"
      ],
      "execution_count": 6,
      "outputs": []
    },
    {
      "cell_type": "code",
      "metadata": {
        "id": "KoWyLlH8L1YF"
      },
      "source": [
        "#separate X and y into train and test data\n",
        "X_train, X_test, y_train, y_test = train_test_split(X, y, test_size=0.30, random_state=42)"
      ],
      "execution_count": 8,
      "outputs": []
    },
    {
      "cell_type": "code",
      "metadata": {
        "id": "yIvBQRXax0t2"
      },
      "source": [
        "#Decision Tree Model\n",
        "clf = DecisionTreeClassifier(max_depth=100, random_state=0)\n",
        "clf.fit(X_train, y_train)\n",
        "dt_predict = clf.predict(X_test)"
      ],
      "execution_count": 9,
      "outputs": []
    },
    {
      "cell_type": "code",
      "metadata": {
        "id": "Ay_wvj4px6Kb",
        "outputId": "81bee7e5-0179-44f0-a825-6fd2395cb91b",
        "colab": {
          "base_uri": "https://localhost:8080/"
        }
      },
      "source": [
        "#print Decision Tree Accuracy \n",
        "dt_accuracy = (dt_predict == y_test).mean() * 100\n",
        "dt_num_correct = dt_predict[dt_predict == y_test]\n",
        "print(\"Decision Tree Accuracy {:.2f}\".format(dt_accuracy))"
      ],
      "execution_count": 10,
      "outputs": [
        {
          "output_type": "stream",
          "text": [
            "Decision Tree Accuracy 94.97\n"
          ],
          "name": "stdout"
        }
      ]
    },
    {
      "cell_type": "code",
      "metadata": {
        "id": "JweL2S9WyD6b"
      },
      "source": [
        "#Naive-Bayes model\n",
        "clf = MultinomialNB()\n",
        "clf.fit(X_train, y_train)\n",
        "nb_predict = clf.predict(X_test)"
      ],
      "execution_count": 11,
      "outputs": []
    },
    {
      "cell_type": "code",
      "metadata": {
        "id": "zK1lzKJjyGuN",
        "outputId": "ef7eda58-0c16-40a9-b319-0c97ccd35041",
        "colab": {
          "base_uri": "https://localhost:8080/"
        }
      },
      "source": [
        "#print Naive-Bayes Accuracy\n",
        "nb_accuracy = (nb_predict == y_test).mean() * 100\n",
        "nb_num_correct = nb_predict[nb_predict == y_test]\n",
        "print('Naive-Bayes Accuracy {:.2f}'.format(nb_accuracy))"
      ],
      "execution_count": 12,
      "outputs": [
        {
          "output_type": "stream",
          "text": [
            "Naive-Bayes Accuracy 86.66\n"
          ],
          "name": "stdout"
        }
      ]
    },
    {
      "cell_type": "code",
      "metadata": {
        "id": "3nS-FecPzgWX"
      },
      "source": [
        "#Random Forest Model\n",
        "clf = RandomForestClassifier(max_depth = 100, min_samples_split=10, min_samples_leaf=1, random_state = 0)\n",
        "clf.fit(X_train, y_train)\n",
        "rf_predict = clf.predict(X_test)"
      ],
      "execution_count": 13,
      "outputs": []
    },
    {
      "cell_type": "code",
      "metadata": {
        "id": "n7oYZHQ8zjGG",
        "outputId": "e3a6e1c4-43b1-45f3-ae24-e1b6f4caf8f3",
        "colab": {
          "base_uri": "https://localhost:8080/"
        }
      },
      "source": [
        "#print Random Forest Accuracy\n",
        "rf_accuracy = (rf_predict == y_test).mean() * 100\n",
        "rf_num_correct = rf_predict[rf_predict == y_test]\n",
        "print('Random Forest Accuracy {:.2f}'.format(rf_accuracy))"
      ],
      "execution_count": 14,
      "outputs": [
        {
          "output_type": "stream",
          "text": [
            "Random Forest Accuracy 97.04\n"
          ],
          "name": "stdout"
        }
      ]
    },
    {
      "cell_type": "code",
      "metadata": {
        "id": "gi2XsgWAzr7I",
        "outputId": "a1e67db3-a66c-44c2-9574-d0e7ba8893bc",
        "colab": {
          "base_uri": "https://localhost:8080/",
          "height": 298
        }
      },
      "source": [
        "#Visualization\n",
        "accuracies = {'Decision Tree':dt_accuracy, 'Naive-Bayes': nb_accuracy, 'Random Forest':rf_accuracy}\n",
        "\n",
        "plt.bar(accuracies.keys(), accuracies.values(), color=('#bfd4db', '#ffb347', '#4a708b'))\n",
        "plt.ylabel('Percent Correct')\n",
        "plt.title('Model Accuracy on Novel (untrained) Email Sample (n = ~1,500)')"
      ],
      "execution_count": 15,
      "outputs": [
        {
          "output_type": "execute_result",
          "data": {
            "text/plain": [
              "Text(0.5, 1.0, 'Model Accuracy on Novel (untrained) Email Sample (n = ~1,500)')"
            ]
          },
          "metadata": {
            "tags": []
          },
          "execution_count": 15
        },
        {
          "output_type": "display_data",
          "data": {
            "image/png": "[encoded data removed]",
            "text/plain": [
              "<Figure size 432x288 with 1 Axes>"
            ]
          },
          "metadata": {
            "tags": [],
            "needs_background": "light"
          }
        }
      ]
    },
    {
      "cell_type": "code",
      "metadata": {
        "colab": {
          "base_uri": "https://localhost:8080/",
          "height": 54
        },
        "id": "FASLa8WuL3K4",
        "outputId": "927066b7-e917-479b-ecb4-86df5b38e44d"
      },
      "source": [
        "#Notes\n",
        "'''\n",
        " kNN was tested but omitted due to limited accuracy and significant test run time\n",
        "#use kNN\n",
        "knn = KNeighborsClassifier()\n",
        "knn.fit(X_train, y_train)\n",
        "predictions = knn.predict(X_test[:50])\n",
        "print(predictions, y_test[:50])\n",
        "'''"
      ],
      "execution_count": 16,
      "outputs": [
        {
          "output_type": "execute_result",
          "data": {
            "application/vnd.google.colaboratory.intrinsic+json": {
              "type": "string"
            },
            "text/plain": [
              "'\\n kNN was tested but omitted due to limited accuracy and significant test run time\\n#use kNN\\nknn = KNeighborsClassifier()\\nknn.fit(X_train, y_train)\\npredictions = knn.predict(X_test[:50])\\nprint(predictions, y_test[:50])\\n'"
            ]
          },
          "metadata": {
            "tags": []
          },
          "execution_count": 16
        }
      ]
    }
  ]
}